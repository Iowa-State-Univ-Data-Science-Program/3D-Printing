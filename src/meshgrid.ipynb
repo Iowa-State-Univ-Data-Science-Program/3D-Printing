{
 "cells": [
  {
   "cell_type": "code",
   "id": "initial_id",
   "metadata": {
    "collapsed": true,
    "ExecuteTime": {
     "end_time": "2025-03-02T23:11:23.941115Z",
     "start_time": "2025-03-02T23:11:23.934507Z"
    }
   },
   "source": [
    "import numpy as np\n",
    "from scipy.stats import norm\n",
    "from scipy.spatial import Delaunay\n",
    "import open3d as o3d\n",
    "import openstl"
   ],
   "outputs": [],
   "execution_count": 91
  },
  {
   "metadata": {
    "ExecuteTime": {
     "end_time": "2025-03-02T23:11:23.996737Z",
     "start_time": "2025-03-02T23:11:23.988988Z"
    }
   },
   "cell_type": "code",
   "source": [
    "import math\n",
    "\n",
    "# set specs\n",
    "\n",
    "resolution = 6\n",
    "\n",
    "mu, sigma = 0, 1\n",
    "\n",
    "side_length = 5 * sigma\n",
    "side_height = side_length / 20\n",
    "print(side_length)"
   ],
   "id": "6c3c4666a2ce4f19",
   "outputs": [
    {
     "name": "stdout",
     "output_type": "stream",
     "text": [
      "5\n"
     ]
    }
   ],
   "execution_count": 92
  },
  {
   "metadata": {
    "ExecuteTime": {
     "end_time": "2025-03-02T23:11:24.048915Z",
     "start_time": "2025-03-02T23:11:24.041929Z"
    }
   },
   "cell_type": "code",
   "source": [
    "x_max = side_length / 2\n",
    "x_min = -x_max\n",
    "z_max = side_length / 2\n",
    "z_min = -z_max\n",
    "y_max = side_height\n",
    "y_min = 0\n",
    "\n",
    "n_side = int(side_length*resolution)\n",
    "n_side = 30"
   ],
   "id": "ecde1c7159f7317e",
   "outputs": [],
   "execution_count": 93
  },
  {
   "metadata": {
    "ExecuteTime": {
     "end_time": "2025-03-02T23:11:24.062223Z",
     "start_time": "2025-03-02T23:11:24.055976Z"
    }
   },
   "cell_type": "code",
   "source": [
    "# A SIDE\n",
    "x = np.linspace(x_min, x_max, n_side)\n",
    "y = np.linspace(y_min, y_max, 5)\n",
    "# print(y)\n",
    "X, Y = np.meshgrid(x, y)\n",
    "Z = np.full(shape=(len(x) * len(y)), fill_value=z_max)\n",
    "a_verts = np.vstack((X.ravel(), Y.ravel(), Z.ravel())).T"
   ],
   "id": "5ab72ad1a19fd9ff",
   "outputs": [],
   "execution_count": 94
  },
  {
   "metadata": {
    "ExecuteTime": {
     "end_time": "2025-03-02T23:11:24.109419Z",
     "start_time": "2025-03-02T23:11:24.102573Z"
    }
   },
   "cell_type": "code",
   "source": [
    "# B SIDE\n",
    "x = np.linspace(x_min, x_max, n_side)\n",
    "y = np.linspace(y_min, y_max, 5)\n",
    "# print(y)\n",
    "X, Y = np.meshgrid(x, y)\n",
    "Z = np.full(shape=(len(x) * len(y)), fill_value=z_min)\n",
    "b_verts = np.vstack((X.ravel(), Y.ravel(), Z.ravel())).T\n"
   ],
   "id": "8d16f2f7432bed5a",
   "outputs": [],
   "execution_count": 95
  },
  {
   "metadata": {
    "ExecuteTime": {
     "end_time": "2025-03-02T23:11:24.166906Z",
     "start_time": "2025-03-02T23:11:24.158210Z"
    }
   },
   "cell_type": "code",
   "source": [
    "# C SIDE\n",
    "z = np.linspace(z_min, z_max, n_side)\n",
    "y = np.linspace(y_min, y_max, 5)\n",
    "# print(y)\n",
    "Z, Y = np.meshgrid(z, y)\n",
    "X = np.full(shape=(len(z) * len(y)), fill_value=x_min)\n",
    "c_verts = np.vstack((X.ravel(), Y.ravel(), Z.ravel())).T"
   ],
   "id": "19e90b9fb87e2e1a",
   "outputs": [],
   "execution_count": 96
  },
  {
   "metadata": {
    "ExecuteTime": {
     "end_time": "2025-03-02T23:11:24.227196Z",
     "start_time": "2025-03-02T23:11:24.216432Z"
    }
   },
   "cell_type": "code",
   "source": [
    "# D SIDE\n",
    "z = np.linspace(z_min, z_max, n_side)\n",
    "y = np.linspace(y_min, y_max, 5)\n",
    "# print(y)\n",
    "Z, Y = np.meshgrid(z, y)\n",
    "X = np.full(shape=(len(z) * len(y)), fill_value=x_max)\n",
    "d_verts = np.vstack((X.ravel(), Y.ravel(), Z.ravel())).T"
   ],
   "id": "914172301d1ced86",
   "outputs": [],
   "execution_count": 97
  },
  {
   "metadata": {
    "ExecuteTime": {
     "end_time": "2025-03-02T23:11:24.277898Z",
     "start_time": "2025-03-02T23:11:24.271490Z"
    }
   },
   "cell_type": "code",
   "source": "# render_pcds([a_verts, b_verts, c_verts, d_verts])",
   "id": "c3eda70ac5762abb",
   "outputs": [],
   "execution_count": 98
  },
  {
   "metadata": {
    "ExecuteTime": {
     "end_time": "2025-03-02T23:11:24.320692Z",
     "start_time": "2025-03-02T23:11:24.312297Z"
    }
   },
   "cell_type": "code",
   "source": [
    "def gen_side_mesh(verts, side: str):\n",
    "    mesh = o3d.geometry.TriangleMesh()\n",
    "    mesh.vertices = o3d.utility.Vector3dVector(verts)\n",
    "    simplices = None\n",
    "    if side == 'a' or side == 'b':\n",
    "        simplices = Delaunay(verts[:, :2]).simplices\n",
    "        # mesh.triangles = o3d.utility.Vector3iVector(Delaunay(verts[:, :2]).simplices)\n",
    "    elif side == 'c' or side == 'd':\n",
    "        simplices = Delaunay(verts[:, [1, 2]]).simplices\n",
    "        # mesh.triangles = o3d.utility.Vector3iVector(Delaunay(verts[:, [1, 2]]).simplices)\n",
    "\n",
    "    if side == 'b' or side == 'c':\n",
    "        flipped_simplices = []\n",
    "        for tri in simplices:\n",
    "            flipped_simplices.append(np.flip(tri))\n",
    "        simplices = flipped_simplices\n",
    "\n",
    "    mesh.triangles = o3d.utility.Vector3iVector(simplices)\n",
    "    mesh.compute_vertex_normals()\n",
    "    return mesh"
   ],
   "id": "9d0f378fc4b74ec8",
   "outputs": [],
   "execution_count": 99
  },
  {
   "metadata": {
    "ExecuteTime": {
     "end_time": "2025-03-02T23:11:24.383866Z",
     "start_time": "2025-03-02T23:11:24.357175Z"
    }
   },
   "cell_type": "code",
   "source": [
    "a_side = gen_side_mesh(a_verts, 'a')\n",
    "a_side.paint_uniform_color([1, 0, 0])\n",
    "b_side = gen_side_mesh(b_verts, 'b')\n",
    "b_side.paint_uniform_color([0, 1, 0])\n",
    "c_side = gen_side_mesh(c_verts, 'c')\n",
    "c_side.paint_uniform_color([0, 0, 1])\n",
    "d_side = gen_side_mesh(d_verts, 'd')\n",
    "d_side.paint_uniform_color([1, 1, 0])\n",
    "meshes = [a_side, b_side, c_side, d_side]\n",
    "# o3d.visualization.draw_geometries(meshes)"
   ],
   "id": "4a05c0c8b63f3b42",
   "outputs": [],
   "execution_count": 100
  },
  {
   "metadata": {
    "ExecuteTime": {
     "end_time": "2025-03-02T23:11:24.430086Z",
     "start_time": "2025-03-02T23:11:24.423392Z"
    }
   },
   "cell_type": "code",
   "source": [
    "def gen_top_mesh(verts):\n",
    "    mesh = o3d.geometry.TriangleMesh()\n",
    "\n",
    "    mesh.vertices = o3d.utility.Vector3dVector(verts)\n",
    "    simplices = []\n",
    "    for tri in Delaunay(verts[:, [0, 2]]).simplices:\n",
    "        simplices.append(np.flip(tri))\n",
    "    mesh.triangles = o3d.utility.Vector3iVector(simplices)\n",
    "    mesh.compute_vertex_normals()\n",
    "    return mesh\n"
   ],
   "id": "38cd402acd10b0a8",
   "outputs": [],
   "execution_count": 101
  },
  {
   "metadata": {
    "ExecuteTime": {
     "end_time": "2025-03-02T23:11:24.473171Z",
     "start_time": "2025-03-02T23:11:24.465115Z"
    }
   },
   "cell_type": "code",
   "source": [
    "def render_pcds(meshes):\n",
    "    center = o3d.geometry.PointCloud()\n",
    "    center.points = o3d.utility.Vector3dVector(np.array([[0,0,0]]))\n",
    "    pcds = []\n",
    "    pcds.append(center)\n",
    "    for mesh in meshes:\n",
    "        pcd = o3d.geometry.PointCloud()\n",
    "        pcd.points = mesh.vertices\n",
    "        pcds.append(pcd)\n",
    "    o3d.visualization.draw_geometries(pcds)"
   ],
   "id": "9224430166f56711",
   "outputs": [],
   "execution_count": 102
  },
  {
   "metadata": {
    "ExecuteTime": {
     "end_time": "2025-03-02T23:11:24.561764Z",
     "start_time": "2025-03-02T23:11:24.511883Z"
    }
   },
   "cell_type": "code",
   "source": [
    "# TOP SURFACE\n",
    "x = np.linspace(x_min, x_max, n_side)\n",
    "z = np.linspace(z_min, z_max, n_side)\n",
    "# print(y)\n",
    "X, Z = np.meshgrid(x, Z)\n",
    "Y = norm.pdf(X, mu, sigma) * norm.pdf(Z, mu, sigma) * 10\n",
    "\n",
    "top_verts = np.vstack((X.ravel(), Y.ravel(), Z.ravel())).T\n",
    "\n",
    "# zeroize edges\n",
    "for coord in top_verts:\n",
    "    if coord[0] == x_min or coord[0] == x_max or coord[2] == z_min or coord[2] == z_max:\n",
    "        coord[1] = 0\n",
    "\n",
    "top_verts[:,1] = top_verts[:,1] + side_height\n",
    "\n",
    "top_mesh = gen_top_mesh(top_verts)\n",
    "meshes.append(top_mesh)\n"
   ],
   "id": "912ad6069f19e835",
   "outputs": [],
   "execution_count": 103
  },
  {
   "metadata": {
    "ExecuteTime": {
     "end_time": "2025-03-02T23:13:55.562999Z",
     "start_time": "2025-03-02T23:13:53.057105Z"
    }
   },
   "cell_type": "code",
   "source": [
    "render_pcds(meshes)\n",
    "# o3d.visualization.draw_geometries(meshes)\n",
    "mesh = a_side + b_side + c_side + d_side + top_mesh\n",
    "print(mesh.is_watertight())\n",
    "o3d.visualization.draw_geometries([mesh])\n",
    "o3d.io.write_triangle_mesh('..\\\\out\\\\mesh.stl', mesh)"
   ],
   "id": "4255cafc7a1ef999",
   "outputs": [
    {
     "name": "stdout",
     "output_type": "stream",
     "text": [
      "False\n"
     ]
    },
    {
     "data": {
      "text/plain": [
       "True"
      ]
     },
     "execution_count": 108,
     "metadata": {},
     "output_type": "execute_result"
    }
   ],
   "execution_count": 108
  },
  {
   "metadata": {
    "ExecuteTime": {
     "end_time": "2025-03-02T23:11:35.644231900Z",
     "start_time": "2025-03-02T23:10:08.673478Z"
    }
   },
   "cell_type": "code",
   "source": "# o3d.visualization.draw_geometries([top_mesh])",
   "id": "98d78e1714eb1b08",
   "outputs": [],
   "execution_count": 90
  },
  {
   "metadata": {
    "ExecuteTime": {
     "end_time": "2025-03-02T23:11:35.647496900Z",
     "start_time": "2025-03-02T23:10:08.744638Z"
    }
   },
   "cell_type": "code",
   "source": "",
   "id": "f0a63b8c1eb8a703",
   "outputs": [],
   "execution_count": null
  }
 ],
 "metadata": {
  "kernelspec": {
   "display_name": "Python 3",
   "language": "python",
   "name": "python3"
  },
  "language_info": {
   "codemirror_mode": {
    "name": "ipython",
    "version": 2
   },
   "file_extension": ".py",
   "mimetype": "text/x-python",
   "name": "python",
   "nbconvert_exporter": "python",
   "pygments_lexer": "ipython2",
   "version": "2.7.6"
  }
 },
 "nbformat": 4,
 "nbformat_minor": 5
}
