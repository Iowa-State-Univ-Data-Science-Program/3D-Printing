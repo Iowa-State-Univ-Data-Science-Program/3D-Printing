{
 "cells": [
  {
   "cell_type": "code",
   "id": "initial_id",
   "metadata": {
    "collapsed": true,
    "ExecuteTime": {
     "end_time": "2025-03-02T00:55:33.157514Z",
     "start_time": "2025-03-02T00:55:33.143433Z"
    }
   },
   "source": [
    "import numpy as np\n",
    "from scipy.spatial import Delaunay\n",
    "from scipy.stats import norm\n",
    "import open3d as o3d"
   ],
   "outputs": [],
   "execution_count": 56
  },
  {
   "metadata": {
    "ExecuteTime": {
     "end_time": "2025-03-02T00:55:33.170244Z",
     "start_time": "2025-03-02T00:55:33.159275Z"
    }
   },
   "cell_type": "code",
   "source": [
    "# generate top surface coords\n",
    "n = 30\n",
    "\n",
    "mu1, sigma1 = 0, 1\n",
    "mu2, sigma2 = 0, 1\n",
    "x_lim = 3 * sigma1\n",
    "z_lim = x_lim\n",
    "\n",
    "x = np.linspace(-x_lim, x_lim, n)\n",
    "z = np.linspace(-z_lim, z_lim, n)\n",
    "\n",
    "X, Z = np.meshgrid(x, z)\n",
    "\n",
    "Y = norm.pdf(X, mu1, sigma1) * norm.pdf(Z, mu2, sigma2) * 10\n",
    "top_surface_matrix = np.vstack((X.ravel(), Y.ravel(), Z.ravel())).T\n",
    "top_surface_matrix\n",
    "# top_surface_matrix[:,2] = top_surface_matrix[:,2]*-1"
   ],
   "id": "ce2dafe7b075e5a7",
   "outputs": [
    {
     "data": {
      "text/plain": [
       "array([[-3.00000000e+00,  1.96412803e-04, -3.00000000e+00],\n",
       "       [-2.79310345e+00,  3.57632223e-04, -3.00000000e+00],\n",
       "       [-2.58620690e+00,  6.23897149e-04, -3.00000000e+00],\n",
       "       ...,\n",
       "       [ 2.58620690e+00,  6.23897149e-04,  3.00000000e+00],\n",
       "       [ 2.79310345e+00,  3.57632223e-04,  3.00000000e+00],\n",
       "       [ 3.00000000e+00,  1.96412803e-04,  3.00000000e+00]],\n",
       "      shape=(900, 3))"
      ]
     },
     "execution_count": 57,
     "metadata": {},
     "output_type": "execute_result"
    }
   ],
   "execution_count": 57
  },
  {
   "metadata": {
    "ExecuteTime": {
     "end_time": "2025-03-02T00:55:33.227193Z",
     "start_time": "2025-03-02T00:55:33.222899Z"
    }
   },
   "cell_type": "code",
   "source": [
    "# zeroize top edges\n",
    "for coord in top_surface_matrix:\n",
    "    if coord[0] == -x_lim or coord[0] == x_lim or coord[2] == -z_lim or coord[2] == z_lim:\n",
    "        coord[1] = 0"
   ],
   "id": "125a242ceb7c5007",
   "outputs": [],
   "execution_count": 58
  },
  {
   "metadata": {
    "ExecuteTime": {
     "end_time": "2025-03-02T00:55:33.269998Z",
     "start_time": "2025-03-02T00:55:33.265591Z"
    }
   },
   "cell_type": "code",
   "source": [
    "# offset top surface by sidewall height\n",
    "sidewall_height = x_lim / 10\n",
    "top_surface_matrix[:, 1] += sidewall_height"
   ],
   "id": "fa7616e865f20f1e",
   "outputs": [],
   "execution_count": 59
  },
  {
   "metadata": {
    "ExecuteTime": {
     "end_time": "2025-03-02T00:55:35.092377Z",
     "start_time": "2025-03-02T00:55:33.301816Z"
    }
   },
   "cell_type": "code",
   "source": [
    "top_pcd = o3d.geometry.PointCloud()\n",
    "top_pcd.points = o3d.utility.Vector3dVector(top_surface_matrix)\n",
    "top_pcd.estimate_normals()\n",
    "o3d.visualization.draw_geometries([top_pcd])"
   ],
   "id": "92be6bfc15406752",
   "outputs": [],
   "execution_count": 60
  },
  {
   "metadata": {
    "ExecuteTime": {
     "end_time": "2025-03-02T00:55:36.328967Z",
     "start_time": "2025-03-02T00:55:35.127127Z"
    }
   },
   "cell_type": "code",
   "source": [
    "#TODO instead of creating the box layer by layer: create each wall layer by layer and save as an stl\n",
    "# save all stls as temp files then combine\n",
    "\n",
    "box_matrix = []\n",
    "\n",
    "offset = sidewall_height / 10  # this should be based off sidewall height, which in turn should be based on the width of the box(limits are based on 250/250\n",
    "current_offset = offset\n",
    "for k in range(1, 10):  # number of layers\n",
    "    layer = []\n",
    "    for i in x:\n",
    "        for j in z:\n",
    "            if i == -x_lim or i == x_lim or j == -z_lim or j == z_lim:\n",
    "                coord = np.array((i, 0, j))\n",
    "                layer.append(coord)\n",
    "    layer = np.array(layer)\n",
    "    layer[:, 1] += current_offset\n",
    "    box_matrix.append(layer)\n",
    "    current_offset += offset\n",
    "\n",
    "box_matrix = np.concat(box_matrix)\n",
    "\n",
    "box_pcd = o3d.geometry.PointCloud()\n",
    "box_pcd.points = o3d.utility.Vector3dVector(box_matrix)\n",
    "box_pcd.estimate_normals()\n",
    "o3d.visualization.draw_geometries([box_pcd])"
   ],
   "id": "89c6909e365a405d",
   "outputs": [],
   "execution_count": 61
  },
  {
   "metadata": {
    "ExecuteTime": {
     "end_time": "2025-03-02T00:55:37.825791Z",
     "start_time": "2025-03-02T00:55:36.357437Z"
    }
   },
   "cell_type": "code",
   "source": [
    "bottom_layer = []\n",
    "for i in x:\n",
    "    for j in z:\n",
    "        coord = np.array((i, 0, j))\n",
    "        bottom_layer.append(coord)\n",
    "bottom_layer = np.array(bottom_layer)\n",
    "\n",
    "bottom_pcd = o3d.geometry.PointCloud()\n",
    "bottom_pcd.points = o3d.utility.Vector3dVector(bottom_layer)\n",
    "bottom_pcd.estimate_normals()\n",
    "o3d.visualization.draw_geometries([bottom_pcd])"
   ],
   "id": "9e9b235d3ec8c421",
   "outputs": [],
   "execution_count": 62
  },
  {
   "metadata": {
    "ExecuteTime": {
     "end_time": "2025-03-02T00:55:39.491660Z",
     "start_time": "2025-03-02T00:55:37.902402Z"
    }
   },
   "cell_type": "code",
   "source": "o3d.visualization.draw_geometries([bottom_pcd + box_pcd + top_pcd])",
   "id": "ef71f496ef475cba",
   "outputs": [],
   "execution_count": 63
  },
  {
   "metadata": {
    "ExecuteTime": {
     "end_time": "2025-03-02T00:55:39.534451Z",
     "start_time": "2025-03-02T00:55:39.520702Z"
    }
   },
   "cell_type": "code",
   "source": [
    "import openstl\n",
    "\n",
    "top_triangles = Delaunay(top_surface_matrix[:, [0, 2]]).simplices\n",
    "\n",
    "top_stl = openstl.convert.triangles(top_surface_matrix, top_triangles)\n",
    "\n",
    "openstl.write('..\\\\out\\\\top.stl', top_stl)"
   ],
   "id": "d0f861117300cc8a",
   "outputs": [
    {
     "data": {
      "text/plain": [
       "True"
      ]
     },
     "execution_count": 64,
     "metadata": {},
     "output_type": "execute_result"
    }
   ],
   "execution_count": 64
  },
  {
   "metadata": {
    "ExecuteTime": {
     "end_time": "2025-03-02T00:55:39.575960Z",
     "start_time": "2025-03-02T00:55:39.565542Z"
    }
   },
   "cell_type": "code",
   "source": [
    "box_triangles = Delaunay(box_matrix[:, [0, 2]]).simplices\n",
    "\n",
    "box_stl = openstl.convert.triangles(box_matrix, box_triangles)\n",
    "\n",
    "openstl.write('..\\\\out\\\\box.stl', box_stl)"
   ],
   "id": "ae9cdae18d84255c",
   "outputs": [
    {
     "data": {
      "text/plain": [
       "True"
      ]
     },
     "execution_count": 65,
     "metadata": {},
     "output_type": "execute_result"
    }
   ],
   "execution_count": 65
  },
  {
   "metadata": {
    "ExecuteTime": {
     "end_time": "2025-03-02T00:55:39.621930Z",
     "start_time": "2025-03-02T00:55:39.608987Z"
    }
   },
   "cell_type": "code",
   "source": [
    "bottom_triangles = Delaunay(bottom_layer[:, [0, 2]]).simplices\n",
    "\n",
    "bottom_stl = openstl.convert.triangles(bottom_layer, bottom_triangles)\n",
    "\n",
    "openstl.write('..\\\\out\\\\bottom.stl', bottom_stl)"
   ],
   "id": "e9ab78fc5c8c1166",
   "outputs": [
    {
     "data": {
      "text/plain": [
       "True"
      ]
     },
     "execution_count": 66,
     "metadata": {},
     "output_type": "execute_result"
    }
   ],
   "execution_count": 66
  },
  {
   "metadata": {},
   "cell_type": "code",
   "outputs": [],
   "execution_count": null,
   "source": [
    "# 1. make a meshgrid for each of the 6 surfaces of the plot: some are (x,y), some are (x,z), some are (y,z)\n",
    "# 2. Add the 3rd dimension to each grid and create a matrix: top surface requires y=norm.pdf, bottom y=0,\n",
    "# 3. triangulate each surface\n",
    "# 4. create a mesh of each surface and render with open3d\n",
    "# 5. combine each mesh and deduplicate verticies\n",
    "# 6. Validate stl and save to disk"
   ],
   "id": "8d01bcb67c51f35d"
  }
 ],
 "metadata": {
  "kernelspec": {
   "display_name": "Python 3",
   "language": "python",
   "name": "python3"
  },
  "language_info": {
   "codemirror_mode": {
    "name": "ipython",
    "version": 2
   },
   "file_extension": ".py",
   "mimetype": "text/x-python",
   "name": "python",
   "nbconvert_exporter": "python",
   "pygments_lexer": "ipython2",
   "version": "2.7.6"
  }
 },
 "nbformat": 4,
 "nbformat_minor": 5
}
